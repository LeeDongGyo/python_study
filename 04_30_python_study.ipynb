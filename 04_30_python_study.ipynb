{
  "nbformat": 4,
  "nbformat_minor": 0,
  "metadata": {
    "colab": {
      "name": "04_30_python study",
      "provenance": []
    },
    "kernelspec": {
      "name": "python3",
      "display_name": "Python 3"
    },
    "language_info": {
      "name": "python"
    }
  },
  "cells": [
    {
      "cell_type": "code",
      "source": [
        "arr = [1,2,3,4,5,6,7,8,9,10]\n"
      ],
      "metadata": {
        "id": "dzYtxJP_uRKH"
      },
      "execution_count": 24,
      "outputs": []
    },
    {
      "cell_type": "code",
      "execution_count": 25,
      "metadata": {
        "colab": {
          "base_uri": "https://localhost:8080/"
        },
        "id": "QHeu8RuisqSs",
        "outputId": "69cfa5d6-0622-4c80-a871-d0d3a693755f"
      },
      "outputs": [
        {
          "output_type": "execute_result",
          "data": {
            "text/plain": [
              "4"
            ]
          },
          "metadata": {},
          "execution_count": 25
        }
      ],
      "source": [
        "# 0 - index\n",
        "arr[3]"
      ]
    },
    {
      "cell_type": "code",
      "source": [
        "# print(arr[0],arr[1],arr[2])"
      ],
      "metadata": {
        "id": "cUVJrhHoubrj"
      },
      "execution_count": 26,
      "outputs": []
    },
    {
      "cell_type": "code",
      "source": [
        "# 슬라이싱\n",
        "\n",
        "# arr[첫번째 인덱스 ; 종료인덱스]\n",
        "arr[0:3]"
      ],
      "metadata": {
        "id": "tA_0XNIXumUZ"
      },
      "execution_count": null,
      "outputs": []
    },
    {
      "cell_type": "code",
      "source": [
        "arr[5:] # 5부터 +1 씩 뽑아내겠습니다"
      ],
      "metadata": {
        "colab": {
          "base_uri": "https://localhost:8080/"
        },
        "id": "LbHoYWK9u0OA",
        "outputId": "38c4e8a4-461f-4d24-b386-381592e50b56"
      },
      "execution_count": 7,
      "outputs": [
        {
          "output_type": "execute_result",
          "data": {
            "text/plain": [
              "[]"
            ]
          },
          "metadata": {},
          "execution_count": 7
        }
      ]
    },
    {
      "cell_type": "code",
      "source": [
        "arr[:5] # 맨마지막 인덱스부터 -1씩 뽑아내겠습니다"
      ],
      "metadata": {
        "colab": {
          "base_uri": "https://localhost:8080/"
        },
        "id": "9ts-Rf52u3JB",
        "outputId": "b93c6e44-0a08-4fb3-8bed-6bc82fbc1b24"
      },
      "execution_count": 5,
      "outputs": [
        {
          "output_type": "execute_result",
          "data": {
            "text/plain": [
              "[1, 2, 3]"
            ]
          },
          "metadata": {},
          "execution_count": 5
        }
      ]
    },
    {
      "cell_type": "code",
      "source": [
        "arr = [1,2,3]\n",
        "arr2 = [4,5,6]\n",
        "arr3 = [1,2,3]\n",
        "arr + arr2 + arr3"
      ],
      "metadata": {
        "colab": {
          "base_uri": "https://localhost:8080/"
        },
        "id": "bO-P5AH_u5uA",
        "outputId": "fc1c7f7c-eea1-43ec-bfd0-a7d0517e7be7"
      },
      "execution_count": 31,
      "outputs": [
        {
          "output_type": "execute_result",
          "data": {
            "text/plain": [
              "[1, 2, 3, 4, 5, 6, 1, 2, 3]"
            ]
          },
          "metadata": {},
          "execution_count": 31
        }
      ]
    },
    {
      "cell_type": "code",
      "source": [
        "'hello' + 'world'"
      ],
      "metadata": {
        "colab": {
          "base_uri": "https://localhost:8080/",
          "height": 36
        },
        "id": "1m3gT-rTvKOA",
        "outputId": "4e5e23f0-4d5b-4b11-a105-fd8d732c3ed7"
      },
      "execution_count": 8,
      "outputs": [
        {
          "output_type": "execute_result",
          "data": {
            "text/plain": [
              "'helloworld'"
            ],
            "application/vnd.google.colaboratory.intrinsic+json": {
              "type": "string"
            }
          },
          "metadata": {},
          "execution_count": 8
        }
      ]
    },
    {
      "cell_type": "code",
      "source": [
        "arr * 2"
      ],
      "metadata": {
        "colab": {
          "base_uri": "https://localhost:8080/"
        },
        "id": "AtJhjv-QvQKb",
        "outputId": "00ba34ea-b777-4b76-9f3f-bae1d8b77837"
      },
      "execution_count": 9,
      "outputs": [
        {
          "output_type": "execute_result",
          "data": {
            "text/plain": [
              "[1, 2, 3, 1, 2, 3]"
            ]
          },
          "metadata": {},
          "execution_count": 9
        }
      ]
    },
    {
      "cell_type": "code",
      "source": [
        "len(arr)"
      ],
      "metadata": {
        "colab": {
          "base_uri": "https://localhost:8080/"
        },
        "id": "uZNO0N-LvTN_",
        "outputId": "8275c046-34dd-4572-f2c4-88f702a3a938"
      },
      "execution_count": 10,
      "outputs": [
        {
          "output_type": "execute_result",
          "data": {
            "text/plain": [
              "3"
            ]
          },
          "metadata": {},
          "execution_count": 10
        }
      ]
    },
    {
      "cell_type": "code",
      "source": [
        "len('hello python')"
      ],
      "metadata": {
        "colab": {
          "base_uri": "https://localhost:8080/"
        },
        "id": "EKarOW1yvWMG",
        "outputId": "f601c4d8-1aca-4db0-afa5-604e5466bdfc"
      },
      "execution_count": 12,
      "outputs": [
        {
          "output_type": "execute_result",
          "data": {
            "text/plain": [
              "12"
            ]
          },
          "metadata": {},
          "execution_count": 12
        }
      ]
    },
    {
      "cell_type": "code",
      "source": [
        "# 리스트 변조"
      ],
      "metadata": {
        "id": "MxR7rYWmvbI4"
      },
      "execution_count": null,
      "outputs": []
    },
    {
      "cell_type": "code",
      "source": [
        "arr = [1, 2, 3]\n",
        "# 4를 끝에 삽입\n",
        "arr.append(4) \n",
        "arr"
      ],
      "metadata": {
        "colab": {
          "base_uri": "https://localhost:8080/"
        },
        "id": "Q0zfWFj_ve9k",
        "outputId": "c5d1d6fc-b1e5-430a-d804-d4008fcdf1a0"
      },
      "execution_count": 14,
      "outputs": [
        {
          "output_type": "execute_result",
          "data": {
            "text/plain": [
              "[1, 2, 3, 4]"
            ]
          },
          "metadata": {},
          "execution_count": 14
        }
      ]
    },
    {
      "cell_type": "code",
      "source": [
        "arr[2] = 5\n",
        "arr"
      ],
      "metadata": {
        "colab": {
          "base_uri": "https://localhost:8080/"
        },
        "id": "IS_vs8i1vs8l",
        "outputId": "66e62201-4053-47b5-b329-e9e9895fa49b"
      },
      "execution_count": 15,
      "outputs": [
        {
          "output_type": "execute_result",
          "data": {
            "text/plain": [
              "[1, 2, 5, 4]"
            ]
          },
          "metadata": {},
          "execution_count": 15
        }
      ]
    },
    {
      "cell_type": "code",
      "source": [
        "arr.insert(1, 8) # 1번자리에 8이라는 값을 넣어라\n",
        "arr"
      ],
      "metadata": {
        "colab": {
          "base_uri": "https://localhost:8080/"
        },
        "id": "x5OdvxcxvxGf",
        "outputId": "7acd9cb0-d518-4717-bd8d-7e792f4b3ee7"
      },
      "execution_count": 16,
      "outputs": [
        {
          "output_type": "execute_result",
          "data": {
            "text/plain": [
              "[1, 8, 2, 5, 4]"
            ]
          },
          "metadata": {},
          "execution_count": 16
        }
      ]
    },
    {
      "cell_type": "code",
      "source": [
        "arr.remove(4) # 4번째 자리에 있는걸 삭제해라\n",
        "arr"
      ],
      "metadata": {
        "colab": {
          "base_uri": "https://localhost:8080/"
        },
        "id": "flLu2FJ1v-iZ",
        "outputId": "45817d5a-5c40-4f2c-bfaf-900ad2afd0e9"
      },
      "execution_count": 17,
      "outputs": [
        {
          "output_type": "execute_result",
          "data": {
            "text/plain": [
              "[1, 8, 2, 5]"
            ]
          },
          "metadata": {},
          "execution_count": 17
        }
      ]
    },
    {
      "cell_type": "code",
      "source": [
        "arr.pop() # 맨 끝에 있는 인덱스 삭제\n",
        "arr"
      ],
      "metadata": {
        "colab": {
          "base_uri": "https://localhost:8080/"
        },
        "id": "LTC6qD-bwboZ",
        "outputId": "9c53c546-2936-4685-bb5c-5e2200591c07"
      },
      "execution_count": 18,
      "outputs": [
        {
          "output_type": "execute_result",
          "data": {
            "text/plain": [
              "[1, 8, 2]"
            ]
          },
          "metadata": {},
          "execution_count": 18
        }
      ]
    },
    {
      "cell_type": "code",
      "source": [
        "arr.sort() # 작은 수의 순서대로 정렬합니다\n",
        "arr"
      ],
      "metadata": {
        "colab": {
          "base_uri": "https://localhost:8080/"
        },
        "id": "zQSDdlaswhtd",
        "outputId": "06a848e9-ec18-4ed9-865e-e2ce46644e90"
      },
      "execution_count": 19,
      "outputs": [
        {
          "output_type": "execute_result",
          "data": {
            "text/plain": [
              "[1, 2, 8]"
            ]
          },
          "metadata": {},
          "execution_count": 19
        }
      ]
    },
    {
      "cell_type": "code",
      "source": [
        "arr.reverse() # 인덱스 번호를 거꾸로 뒤집는다?\n",
        "arr"
      ],
      "metadata": {
        "colab": {
          "base_uri": "https://localhost:8080/"
        },
        "id": "bGN2NoLSwqBW",
        "outputId": "f94fde59-3fc2-450a-8dd9-d7779dbe6226"
      },
      "execution_count": 20,
      "outputs": [
        {
          "output_type": "execute_result",
          "data": {
            "text/plain": [
              "[8, 2, 1]"
            ]
          },
          "metadata": {},
          "execution_count": 20
        }
      ]
    },
    {
      "cell_type": "code",
      "source": [
        "# 객체 실습\n",
        "# 대표적으로 두가지 습성의 언어\n",
        "# 절차지향적 언어 , 객체 지향적 언어\n",
        "# 파이썬 == 객체 지향적 언어\n",
        "# 객체 == 하나의 유기체 \n",
        "# 사람 얼굴 객체 = 눈 고 입 귀 \n",
        "# class eye , class nose , class mouth , class ear\n",
        "# 재사용 하는 코드들의 집합 <-- 객체라고 한다\n",
        "class Test:\n",
        "# def 함수이름 (매개변수):\n",
        "# 매개변수 == 입력받는 값\n",
        "# 명령문\n",
        "  def get_area(radius):\n",
        "    return (3.14*radius**2)\n",
        "    \n",
        "  def printInfo(self):\n",
        "    print('Hello Python')\n"
      ],
      "metadata": {
        "id": "5ExzyiEowtua"
      },
      "execution_count": 22,
      "outputs": []
    },
    {
      "cell_type": "code",
      "source": [
        "test = Test()\n",
        "test.printInfo()"
      ],
      "metadata": {
        "colab": {
          "base_uri": "https://localhost:8080/"
        },
        "id": "ZUvS8_Mzx5KH",
        "outputId": "285b1840-8776-4611-a21b-c834923846b5"
      },
      "execution_count": 23,
      "outputs": [
        {
          "output_type": "stream",
          "name": "stdout",
          "text": [
            "Hello Python\n"
          ]
        }
      ]
    },
    {
      "cell_type": "code",
      "source": [
        "tup = (1, 2, 3)\n",
        "tup[0]"
      ],
      "metadata": {
        "colab": {
          "base_uri": "https://localhost:8080/"
        },
        "id": "cFLnrfi2yG0G",
        "outputId": "ae744d61-a168-485a-873d-2b810269d564"
      },
      "execution_count": 27,
      "outputs": [
        {
          "output_type": "execute_result",
          "data": {
            "text/plain": [
              "1"
            ]
          },
          "metadata": {},
          "execution_count": 27
        }
      ]
    },
    {
      "cell_type": "code",
      "source": [
        "tup[1] = 4"
      ],
      "metadata": {
        "colab": {
          "base_uri": "https://localhost:8080/",
          "height": 176
        },
        "id": "xgyQT3jbyMou",
        "outputId": "ce5e1b80-be6f-4a7a-a22e-04edb8491ad0"
      },
      "execution_count": 28,
      "outputs": [
        {
          "output_type": "error",
          "ename": "TypeError",
          "evalue": "ignored",
          "traceback": [
            "\u001b[0;31m---------------------------------------------------------------------------\u001b[0m",
            "\u001b[0;31mTypeError\u001b[0m                                 Traceback (most recent call last)",
            "\u001b[0;32m<ipython-input-28-1985035aacbf>\u001b[0m in \u001b[0;36m<module>\u001b[0;34m()\u001b[0m\n\u001b[0;32m----> 1\u001b[0;31m \u001b[0mtup\u001b[0m\u001b[0;34m[\u001b[0m\u001b[0;36m1\u001b[0m\u001b[0;34m]\u001b[0m \u001b[0;34m=\u001b[0m \u001b[0;36m4\u001b[0m\u001b[0;34m\u001b[0m\u001b[0;34m\u001b[0m\u001b[0m\n\u001b[0m",
            "\u001b[0;31mTypeError\u001b[0m: 'tuple' object does not support item assignment"
          ]
        }
      ]
    },
    {
      "cell_type": "code",
      "source": [
        "len(tup)"
      ],
      "metadata": {
        "colab": {
          "base_uri": "https://localhost:8080/"
        },
        "id": "Ub4AvHD-yXDy",
        "outputId": "dcee0c1b-1578-4ccf-a7b3-9f8ccd127ef2"
      },
      "execution_count": 29,
      "outputs": [
        {
          "output_type": "execute_result",
          "data": {
            "text/plain": [
              "3"
            ]
          },
          "metadata": {},
          "execution_count": 29
        }
      ]
    },
    {
      "cell_type": "code",
      "source": [
        "tup + tup"
      ],
      "metadata": {
        "colab": {
          "base_uri": "https://localhost:8080/"
        },
        "id": "557URDtZyyV1",
        "outputId": "84547196-0e7b-4ac6-8c3f-8b1eb89cce39"
      },
      "execution_count": 30,
      "outputs": [
        {
          "output_type": "execute_result",
          "data": {
            "text/plain": [
              "(1, 2, 3, 1, 2, 3)"
            ]
          },
          "metadata": {},
          "execution_count": 30
        }
      ]
    },
    {
      "cell_type": "code",
      "source": [
        ""
      ],
      "metadata": {
        "id": "NMprLF7Gy1D5"
      },
      "execution_count": null,
      "outputs": []
    },
    {
      "cell_type": "code",
      "source": [
        "tup[1]"
      ],
      "metadata": {
        "colab": {
          "base_uri": "https://localhost:8080/"
        },
        "id": "88Yp-LxT60Ua",
        "outputId": "349905fc-1149-4c63-d885-d0326491ec03"
      },
      "execution_count": 32,
      "outputs": [
        {
          "output_type": "execute_result",
          "data": {
            "text/plain": [
              "2"
            ]
          },
          "metadata": {},
          "execution_count": 32
        }
      ]
    },
    {
      "cell_type": "code",
      "source": [
        "tup[0:]"
      ],
      "metadata": {
        "colab": {
          "base_uri": "https://localhost:8080/"
        },
        "id": "BPCqxDap7Jh4",
        "outputId": "e2af008e-3fd9-40a4-8277-633f394666b3"
      },
      "execution_count": 33,
      "outputs": [
        {
          "output_type": "execute_result",
          "data": {
            "text/plain": [
              "(1, 2, 3)"
            ]
          },
          "metadata": {},
          "execution_count": 33
        }
      ]
    },
    {
      "cell_type": "code",
      "source": [
        "# 인덱싱이 가능하다 == 값의 위치 반환이 가능하다\n",
        "JJanggunostop = ('짱구','유리','철수','훈이')\n",
        "# JJanggunostop 짱구는 못말려 튜플에서 짱구와 철수 요소의 위치를 반환해주는 함수\n",
        "JJanggunostop.index('짱구')\n",
        "JJanggunostop.index('철수')\n",
        "# JJanggunostop 짱구는 못말려 튜플에서 짱구와 철수 요소의 갯수\n",
        "JJanggunostop.count('짱구')"
      ],
      "metadata": {
        "colab": {
          "base_uri": "https://localhost:8080/"
        },
        "id": "IUKgkhKo7MsG",
        "outputId": "d635a66c-f00e-4f87-e41e-f75ee3810ba2"
      },
      "execution_count": 38,
      "outputs": [
        {
          "output_type": "execute_result",
          "data": {
            "text/plain": [
              "1"
            ]
          },
          "metadata": {},
          "execution_count": 38
        }
      ]
    },
    {
      "cell_type": "code",
      "source": [
        "list((JJanggunostop)) # 튜플 --> 리스트\n",
        "tuple((arr)) #리스트 --> 튜플"
      ],
      "metadata": {
        "colab": {
          "base_uri": "https://localhost:8080/"
        },
        "id": "ZWUdH7Ae8cwJ",
        "outputId": "af14f3d2-1a6c-42ce-91ce-391e1f940040"
      },
      "execution_count": 37,
      "outputs": [
        {
          "output_type": "execute_result",
          "data": {
            "text/plain": [
              "(1, 2, 3)"
            ]
          },
          "metadata": {},
          "execution_count": 37
        }
      ]
    },
    {
      "cell_type": "code",
      "source": [
        "#a~~~~~~~~\n",
        "#b~~~~~~~~\n",
        "#c~~~~~~~~\n",
        "#            키key  :값values\n",
        "capitals = {'Korea':'Seoul',\n",
        "            'USA':'Wasinto',\n",
        "            'UK':'London'\n",
        "            }\n",
        "print(capitals)\n",
        "capitals.update({'Germany':'Berlin'})\n",
        "print(capitals)\n",
        "capitals.pop('Germany')\n",
        "print(capitals)\n",
        "# item 메서드는 딕셔너리가 가지고 있는 키와 벨류를 모두 변환한다.\n",
        "print(capitals.items())\n",
        "# keys 메서드는 딕셔너리가 가지고있는 키를 변환한다.\n",
        "print(capitals.key())\n",
        "# values 메서드는 딕셔너리가 가지고 있는 벨류값을 변환한다.\n",
        "print(capitals.values())\n",
        "print(capitals.get('Korea',))\n",
        "# 딕셔너리에서는 리스트에서 사용하는 함수들을 사용 가능함\n",
        "len(capitals)"
      ],
      "metadata": {
        "colab": {
          "base_uri": "https://localhost:8080/",
          "height": 325
        },
        "id": "m9U9Q13Y82GV",
        "outputId": "6f894220-66a6-4198-f1c2-5154aff9c526"
      },
      "execution_count": 48,
      "outputs": [
        {
          "output_type": "stream",
          "name": "stdout",
          "text": [
            "{'Korea': 'Seoul', 'USA': 'Wasinto', 'UK': 'London'}\n",
            "{'Korea': 'Seoul', 'USA': 'Wasinto', 'UK': 'London', 'Germany': 'Berlin'}\n",
            "{'Korea': 'Seoul', 'USA': 'Wasinto', 'UK': 'London'}\n",
            "dict_items([('Korea', 'Seoul'), ('USA', 'Wasinto'), ('UK', 'London')])\n"
          ]
        },
        {
          "output_type": "error",
          "ename": "AttributeError",
          "evalue": "ignored",
          "traceback": [
            "\u001b[0;31m---------------------------------------------------------------------------\u001b[0m",
            "\u001b[0;31mAttributeError\u001b[0m                            Traceback (most recent call last)",
            "\u001b[0;32m<ipython-input-48-5e096d74241d>\u001b[0m in \u001b[0;36m<module>\u001b[0;34m()\u001b[0m\n\u001b[1;32m     15\u001b[0m \u001b[0mprint\u001b[0m\u001b[0;34m(\u001b[0m\u001b[0mcapitals\u001b[0m\u001b[0;34m.\u001b[0m\u001b[0mitems\u001b[0m\u001b[0;34m(\u001b[0m\u001b[0;34m)\u001b[0m\u001b[0;34m)\u001b[0m\u001b[0;34m\u001b[0m\u001b[0;34m\u001b[0m\u001b[0m\n\u001b[1;32m     16\u001b[0m \u001b[0;31m# keys 메서드는 딕셔너리가 가지고있는 키를 변환한다.\u001b[0m\u001b[0;34m\u001b[0m\u001b[0;34m\u001b[0m\u001b[0;34m\u001b[0m\u001b[0m\n\u001b[0;32m---> 17\u001b[0;31m \u001b[0mprint\u001b[0m\u001b[0;34m(\u001b[0m\u001b[0mcapitals\u001b[0m\u001b[0;34m.\u001b[0m\u001b[0mkey\u001b[0m\u001b[0;34m(\u001b[0m\u001b[0;34m)\u001b[0m\u001b[0;34m)\u001b[0m\u001b[0;34m\u001b[0m\u001b[0;34m\u001b[0m\u001b[0m\n\u001b[0m\u001b[1;32m     18\u001b[0m \u001b[0;31m# values 메서드는 딕셔너리가 가지고 있는 벨류값을 변환한다.\u001b[0m\u001b[0;34m\u001b[0m\u001b[0;34m\u001b[0m\u001b[0;34m\u001b[0m\u001b[0m\n\u001b[1;32m     19\u001b[0m \u001b[0mprint\u001b[0m\u001b[0;34m(\u001b[0m\u001b[0mcapitals\u001b[0m\u001b[0;34m.\u001b[0m\u001b[0mvalues\u001b[0m\u001b[0;34m(\u001b[0m\u001b[0;34m)\u001b[0m\u001b[0;34m)\u001b[0m\u001b[0;34m\u001b[0m\u001b[0;34m\u001b[0m\u001b[0m\n",
            "\u001b[0;31mAttributeError\u001b[0m: 'dict' object has no attribute 'key'"
          ]
        }
      ]
    },
    {
      "cell_type": "code",
      "source": [
        "# 하나 둘 셋을 영어로 가진 딕셔너리를 생성하고 단어를 입력 받아서 출력해보세요\n",
        "english_dict = {}\n",
        "\n",
        "english_dict['one']='하나'\n",
        "english_dict['two']='둘'\n",
        "english_dict['three']='셋'\n",
        "\n",
        "word = input('단어를 입력(영어로):')\n",
        "print(english_dict[word])"
      ],
      "metadata": {
        "colab": {
          "base_uri": "https://localhost:8080/"
        },
        "id": "gV1FWIAq-8_2",
        "outputId": "6f97ca4a-3c8e-4895-f7db-3e55b449bee8"
      },
      "execution_count": 47,
      "outputs": [
        {
          "output_type": "stream",
          "name": "stdout",
          "text": [
            "단어를 입력(영어로):one\n",
            "하나\n"
          ]
        }
      ]
    },
    {
      "cell_type": "code",
      "source": [
        "#  get 메서드를 통해 원하시는 국가 음식 딕셔너리에서 음식을 반환해보세요\n",
        "\n",
        "food = {'한국':'김치',\n",
        "        '미국':'햄버거',\n",
        "        '일본':'초밥'}\n",
        "print(food.get('한국'))"
      ],
      "metadata": {
        "colab": {
          "base_uri": "https://localhost:8080/"
        },
        "id": "M-3cskY6BJ4y",
        "outputId": "f041a51c-030a-48ac-8167-f925dff498f8"
      },
      "execution_count": 53,
      "outputs": [
        {
          "output_type": "stream",
          "name": "stdout",
          "text": [
            "김치\n"
          ]
        }
      ]
    }
  ]
}